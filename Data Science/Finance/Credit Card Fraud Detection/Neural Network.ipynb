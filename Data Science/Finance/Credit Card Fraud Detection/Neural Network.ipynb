{
  "nbformat": 4,
  "nbformat_minor": 0,
  "metadata": {
    "colab": {
      "name": "Neural Network.ipynb",
      "provenance": [],
      "collapsed_sections": []
    },
    "kernelspec": {
      "name": "python3",
      "display_name": "Python 3"
    },
    "language_info": {
      "name": "python"
    }
  },
  "cells": [
    {
      "cell_type": "markdown",
      "source": [
        "Import Libraries"
      ],
      "metadata": {
        "id": "6vFRd7SD20st"
      }
    },
    {
      "cell_type": "code",
      "execution_count": null,
      "metadata": {
        "id": "eBZtfFQX2rZ2"
      },
      "outputs": [],
      "source": [
        "import numpy as np\n",
        "import matplotlib.pyplot as plt\n",
        "import sklearn\n",
        "from sklearn.model_selection import train_test_split\n",
        "from sklearn.datasets import make_blobs\n",
        "from sklearn.linear_model import LogisticRegression\n",
        "import pandas as pd\n",
        "\n",
        "from keras.models import Sequential\n",
        "from keras.layers import Dense, Activation, Convolution2D, Flatten, Dropout, MaxPooling2D\n",
        "from keras.optimizers import SGD\n",
        "import tensorflow as tf\n",
        "\n",
        "import pandas_ml as pdml\n",
        "import imblearn"
      ]
    },
    {
      "cell_type": "markdown",
      "source": [
        "Load Data"
      ],
      "metadata": {
        "id": "1uzFXiKd23nf"
      }
    },
    {
      "cell_type": "code",
      "source": [
        "df = pd.read_csv('creditcard.csv', low_memory=False)\n",
        "X = df.iloc[:,:-1]\n",
        "y = df['Class']"
      ],
      "metadata": {
        "id": "EgycK3Av25kj"
      },
      "execution_count": null,
      "outputs": []
    },
    {
      "cell_type": "code",
      "source": [
        "X_train, X_test, y_train, y_test = train_test_split(X, y, test_size=0.33)\n",
        "print(\"Size of training set: \", X_train.shape)"
      ],
      "metadata": {
        "id": "zfjPp7vb3D53"
      },
      "execution_count": null,
      "outputs": []
    },
    {
      "cell_type": "markdown",
      "source": [
        "Simple Neural Network"
      ],
      "metadata": {
        "id": "qU3BOKzz3MYj"
      }
    },
    {
      "cell_type": "code",
      "source": [
        "model = Sequential()\n",
        "model.add(Dense(30, input_dim=30, activation='relu'))     # kernel_initializer='normal'\n",
        "model.add(Dense(1, activation='sigmoid'))                 # kernel_initializer='normal'\n",
        "model.compile(loss='binary_crossentropy', optimizer='adam', metrics=['accuracy'])\n",
        "model.summary()"
      ],
      "metadata": {
        "id": "Yx1cc0SQ3PBV"
      },
      "execution_count": null,
      "outputs": []
    },
    {
      "cell_type": "code",
      "source": [
        "model.fit(X_train.as_matrix(), y_train, epochs=1)"
      ],
      "metadata": {
        "id": "tOo17tJQ3Q1k"
      },
      "execution_count": null,
      "outputs": []
    },
    {
      "cell_type": "code",
      "source": [
        "print(\"Loss: \", model.evaluate(X_test.as_matrix(), y_test, verbose=0))"
      ],
      "metadata": {
        "id": "JZCLe2mi3SwG"
      },
      "execution_count": null,
      "outputs": []
    },
    {
      "cell_type": "code",
      "source": [
        "y_predicted = model.predict(X_test.as_matrix()).T[0].astype(int)"
      ],
      "metadata": {
        "id": "1BRkvzYB3Uwo"
      },
      "execution_count": null,
      "outputs": []
    },
    {
      "cell_type": "code",
      "source": [
        "from pandas_ml import ConfusionMatrix\n",
        "y_right = np.array(y_test)\n",
        "confusion_matrix = ConfusionMatrix(y_right, y_predicted)\n",
        "print(\"Confusion matrix:\\n%s\" % confusion_matrix)\n",
        "confusion_matrix.plot(normalized=True)\n",
        "plt.show()"
      ],
      "metadata": {
        "id": "N7msTXGA3Xt4"
      },
      "execution_count": null,
      "outputs": []
    },
    {
      "cell_type": "code",
      "source": [
        "confusion_matrix.print_stats()"
      ],
      "metadata": {
        "id": "IhpThrQ83a5I"
      },
      "execution_count": null,
      "outputs": []
    },
    {
      "cell_type": "markdown",
      "source": [
        "Model after Oversampling, Scaling, and PCA"
      ],
      "metadata": {
        "id": "MXsD34Wf3jc9"
      }
    },
    {
      "cell_type": "code",
      "source": [
        "from sklearn.decomposition import PCA\n",
        "from sklearn.preprocessing import scale\n",
        "\n",
        "df2 = pdml.ModelFrame(X_train, target=y_train)\n",
        "sampler = df2.imbalance.over_sampling.SMOTE()\n",
        "oversampled = df2.fit_sample(sampler)\n",
        "X2, y2 = oversampled.iloc[:,:-1], oversampled['Class']\n",
        "\n",
        "data = scale(X2)\n",
        "pca = PCA(n_components=10)\n",
        "X2 = pca.fit_transform(data)\n",
        "X2"
      ],
      "metadata": {
        "id": "-5Z3oAQm3u6I"
      },
      "execution_count": null,
      "outputs": []
    },
    {
      "cell_type": "code",
      "source": [
        "model2 = Sequential()\n",
        "model2.add(Dense(10, input_dim=10, activation='relu')) \n",
        "model2.add(Dense(27, activation='relu'))\n",
        "model2.add(Dense(20, activation='relu'))\n",
        "model2.add(Dense(15, activation='relu'))\n",
        "model2.add(Dense(1, activation='sigmoid'))\n",
        "model2.compile(loss='binary_crossentropy', optimizer='adam', metrics=['accuracy'])\n",
        "model2.summary()"
      ],
      "metadata": {
        "id": "mFL5J4tv31nK"
      },
      "execution_count": null,
      "outputs": []
    },
    {
      "cell_type": "code",
      "source": [
        "X2_test = pca.fit_transform(X_test)\n",
        "h = model2.fit(X2, y2, epochs=5, validation_data=(X2_test, y_test))"
      ],
      "metadata": {
        "id": "AeBJRnva33kS"
      },
      "execution_count": null,
      "outputs": []
    },
    {
      "cell_type": "code",
      "source": [
        "print(\"Loss: \", model2.evaluate(X2_test, y_test, verbose=2))"
      ],
      "metadata": {
        "id": "bTJqAycv35bQ"
      },
      "execution_count": null,
      "outputs": []
    },
    {
      "cell_type": "code",
      "source": [
        "y2_predicted = np.round(model2.predict(X2_test)).T[0]\n",
        "y2_correct = np.array(y_test)"
      ],
      "metadata": {
        "id": "qaT_NLQ4377-"
      },
      "execution_count": null,
      "outputs": []
    },
    {
      "cell_type": "code",
      "source": [
        "confusion_matrix2 = ConfusionMatrix(y2_correct, y2_predicted)\n",
        "print(\"Confusion matrix:\\n%s\" % confusion_matrix2)\n",
        "confusion_matrix2.plot(normalized=True)\n",
        "plt.show()\n",
        "confusion_matrix2.print_stats()"
      ],
      "metadata": {
        "id": "1BH3bmar39kC"
      },
      "execution_count": null,
      "outputs": []
    }
  ]
}